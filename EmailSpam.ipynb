{
 "cells": [
  {
   "cell_type": "code",
   "execution_count": 5,
   "metadata": {},
   "outputs": [
    {
     "name": "stdout",
     "output_type": "stream",
     "text": [
      "YES\n"
     ]
    }
   ],
   "source": [
    "import pandas as pd\n",
    "from sklearn.feature_extraction.text  import CountVectorizer\n",
    "##from sklearn.naive_bayes import MultinomialNB , GaussianNB\n",
    "##from sklearn import svm\n",
    "from sklearn.svm import LinearSVC\n",
    "from sklearn.feature_extraction.text import TfidfVectorizer\n",
    "##from sklearn.model_selection import GridSearchCV\n",
    "from sklearn.model_selection import train_test_split\n",
    "from sklearn.metrics import accuracy_score,confusion_matrix,f1_score\n",
    "\n",
    "print(\"YES\")"
   ]
  },
  {
   "cell_type": "code",
   "execution_count": 6,
   "metadata": {},
   "outputs": [
    {
     "name": "stdout",
     "output_type": "stream",
     "text": [
      "  Category                                            Message\n",
      "0      ham  Go until jurong point, crazy.. Available only ...\n",
      "1      ham                      Ok lar... Joking wif u oni...\n",
      "2     spam  Free entry in 2 a wkly comp to win FA Cup fina...\n",
      "3      ham  U dun say so early hor... U c already then say...\n",
      "4      ham  Nah I don't think he goes to usf, he lives aro...\n",
      "5     spam  FreeMsg Hey there darling it's been 3 week's n...\n",
      "6      ham  Even my brother is not like to speak with me. ...\n",
      "7      ham  As per your request 'Melle Melle (Oru Minnamin...\n",
      "8     spam  WINNER!! As a valued network customer you have...\n",
      "9     spam  Had your mobile 11 months or more? U R entitle...\n",
      "       Category                 Message\n",
      "count      5572                    5572\n",
      "unique        2                    5157\n",
      "top         ham  Sorry, I'll call later\n",
      "freq       4825                      30\n"
     ]
    }
   ],
   "source": [
    "##step1: to load dataset\n",
    "data=pd.read_csv(\"spamham.csv\")\n",
    "print(data.head(n=10))\n",
    "##statistical properties of our data\n",
    "print(data.describe())\n",
    "\n",
    "##step 2: split training data and test data\n",
    "data.loc[data[\"Category\"] == 'ham', \"Category\",] = 1 ## setting ham email as 1\n",
    "data.loc[data[\"Category\"] == 'spam', \"Category\",] = 0 ##setting sham email as 0\n",
    "x = data['Message']\n",
    "y = data['Category']\n",
    "# split the table - 80 percent for training and 20 percent for test size\n",
    "x_train, x_test, y_train, y_test = train_test_split(x, y, train_size=0.8, test_size=0.2, random_state=4)\n",
    "##xTrain, xTest, yTrain, yTest = train_test_split(x, y, test_size = 0.2, random_state = 0)"
   ]
  },
  {
   "cell_type": "code",
   "execution_count": 7,
   "metadata": {},
   "outputs": [
    {
     "name": "stdout",
     "output_type": "stream",
     "text": [
      "YES\n"
     ]
    }
   ],
   "source": [
    "\n",
    "##step 3: extract features\n",
    "count = CountVectorizer(min_df=1, stop_words='english', lowercase=True) ##accuracy =97\n",
    "##count = TfidfVectorizer(min_df=1, stop_words='english', lowercase=True)  ##accuracy =98\n",
    "#features = count.fit_transform(x_train)\n",
    "x_trainFeat=count.fit_transform(x_train)\n",
    "x_testFeat = count.transform(x_test)\n",
    "print(\"YES\")\n"
   ]
  },
  {
   "cell_type": "code",
   "execution_count": 9,
   "metadata": {},
   "outputs": [
    {
     "name": "stdout",
     "output_type": "stream",
     "text": [
      "Accuracy score is: 98.30\n"
     ]
    },
    {
     "name": "stderr",
     "output_type": "stream",
     "text": [
      "C:\\Users\\SIDDHANT\\Anaconda3\\lib\\site-packages\\ipykernel_launcher.py:10: FutureWarning: Method .as_matrix will be removed in a future version. Use .values instead.\n",
      "  # Remove the CWD from sys.path while we load stuff.\n"
     ]
    }
   ],
   "source": [
    "##step 4:build model\n",
    "##model=svm.SVC()\n",
    "y_trainSvm = y_train.astype('int')\n",
    "classifierModel = LinearSVC()\n",
    "classifierModel.fit(x_trainFeat, y_trainSvm)\n",
    "Accuracy = classifierModel.predict(x_testFeat)\n",
    "\n",
    "##step 5:test accuracy\n",
    "y_test = y_test.astype('int')\n",
    "actual_Y = y_test.as_matrix()\n",
    "print(\"Accuracy score is: {0:.2f}\".format(accuracy_score(actual_Y,Accuracy)*100))"
   ]
  },
  {
   "cell_type": "code",
   "execution_count": null,
   "metadata": {},
   "outputs": [],
   "source": []
  }
 ],
 "metadata": {
  "kernelspec": {
   "display_name": "Python 3",
   "language": "python",
   "name": "python3"
  },
  "language_info": {
   "codemirror_mode": {
    "name": "ipython",
    "version": 3
   },
   "file_extension": ".py",
   "mimetype": "text/x-python",
   "name": "python",
   "nbconvert_exporter": "python",
   "pygments_lexer": "ipython3",
   "version": "3.7.3"
  }
 },
 "nbformat": 4,
 "nbformat_minor": 2
}
